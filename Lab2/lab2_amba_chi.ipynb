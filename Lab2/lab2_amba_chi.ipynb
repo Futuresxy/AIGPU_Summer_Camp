{
 "cells": [
  {
   "cell_type": "markdown",
   "metadata": {},
   "source": [
    "# RAG with LangChain"
   ]
  },
  {
   "cell_type": "markdown",
   "metadata": {},
   "source": [
    "## Step 1. Environment Setup\n",
    "\n",
    "This section outlines the steps taken to set up the Python environment for our project using Jupyter Notebook. We are utilizing the `pip` package manager to install a series of libraries that are essential for our project's functionality.\n",
    "\n",
    "### 1.1 Python Package Installation\n",
    "\n",
    "We are using the following command to install the necessary packages:"
   ]
  },
  {
   "cell_type": "code",
   "execution_count": 1,
   "metadata": {},
   "outputs": [
    {
     "name": "stdout",
     "output_type": "stream",
     "text": [
      "Defaulting to user installation because normal site-packages is not writeable\n",
      "Requirement already satisfied: langchain in /home/rocm-user/.local/lib/python3.9/site-packages (0.2.12)\n",
      "Requirement already satisfied: langchain_core in /home/rocm-user/.local/lib/python3.9/site-packages (0.2.29)\n",
      "Requirement already satisfied: langchain_community in /home/rocm-user/.local/lib/python3.9/site-packages (0.2.11)\n",
      "Requirement already satisfied: langchain_chroma in /home/rocm-user/.local/lib/python3.9/site-packages (0.1.2)\n",
      "Requirement already satisfied: pypdf in /home/rocm-user/.local/lib/python3.9/site-packages (4.3.1)\n",
      "Requirement already satisfied: faiss-cpu in /home/rocm-user/.local/lib/python3.9/site-packages (1.8.0.post1)\n",
      "Requirement already satisfied: PyYAML>=5.3 in /usr/local/lib/python3.9/dist-packages (from langchain) (6.0.1)\n",
      "Requirement already satisfied: SQLAlchemy<3,>=1.4 in /usr/local/lib/python3.9/dist-packages (from langchain) (2.0.31)\n",
      "Requirement already satisfied: aiohttp<4.0.0,>=3.8.3 in /home/rocm-user/.local/lib/python3.9/site-packages (from langchain) (3.10.2)\n",
      "Requirement already satisfied: async-timeout<5.0.0,>=4.0.0 in /home/rocm-user/.local/lib/python3.9/site-packages (from langchain) (4.0.3)\n",
      "Requirement already satisfied: langchain-text-splitters<0.3.0,>=0.2.0 in /home/rocm-user/.local/lib/python3.9/site-packages (from langchain) (0.2.2)\n",
      "Requirement already satisfied: langsmith<0.2.0,>=0.1.17 in /home/rocm-user/.local/lib/python3.9/site-packages (from langchain) (0.1.98)\n",
      "Requirement already satisfied: numpy<2,>=1 in /home/rocm-user/.local/lib/python3.9/site-packages (from langchain) (1.26.4)\n",
      "Requirement already satisfied: pydantic<3,>=1 in /usr/local/lib/python3.9/dist-packages (from langchain) (2.7.4)\n",
      "Requirement already satisfied: requests<3,>=2 in /usr/local/lib/python3.9/dist-packages (from langchain) (2.32.3)\n",
      "Requirement already satisfied: tenacity!=8.4.0,<9.0.0,>=8.1.0 in /home/rocm-user/.local/lib/python3.9/site-packages (from langchain) (8.5.0)\n",
      "Requirement already satisfied: jsonpatch<2.0,>=1.33 in /home/rocm-user/.local/lib/python3.9/site-packages (from langchain_core) (1.33)\n",
      "Requirement already satisfied: packaging<25,>=23.2 in /usr/local/lib/python3.9/dist-packages (from langchain_core) (24.1)\n",
      "Requirement already satisfied: typing-extensions>=4.7 in /usr/local/lib/python3.9/dist-packages (from langchain_core) (4.12.2)\n",
      "Requirement already satisfied: dataclasses-json<0.7,>=0.5.7 in /home/rocm-user/.local/lib/python3.9/site-packages (from langchain_community) (0.6.7)\n",
      "Requirement already satisfied: chromadb<0.6.0,>=0.4.0 in /home/rocm-user/.local/lib/python3.9/site-packages (from langchain_chroma) (0.5.5)\n",
      "Requirement already satisfied: fastapi<1,>=0.95.2 in /home/rocm-user/.local/lib/python3.9/site-packages (from langchain_chroma) (0.112.0)\n",
      "Requirement already satisfied: aiohappyeyeballs>=2.3.0 in /home/rocm-user/.local/lib/python3.9/site-packages (from aiohttp<4.0.0,>=3.8.3->langchain) (2.3.5)\n",
      "Requirement already satisfied: aiosignal>=1.1.2 in /home/rocm-user/.local/lib/python3.9/site-packages (from aiohttp<4.0.0,>=3.8.3->langchain) (1.3.1)\n",
      "Requirement already satisfied: attrs>=17.3.0 in /usr/local/lib/python3.9/dist-packages (from aiohttp<4.0.0,>=3.8.3->langchain) (23.2.0)\n",
      "Requirement already satisfied: frozenlist>=1.1.1 in /home/rocm-user/.local/lib/python3.9/site-packages (from aiohttp<4.0.0,>=3.8.3->langchain) (1.4.1)\n",
      "Requirement already satisfied: multidict<7.0,>=4.5 in /home/rocm-user/.local/lib/python3.9/site-packages (from aiohttp<4.0.0,>=3.8.3->langchain) (6.0.5)\n",
      "Requirement already satisfied: yarl<2.0,>=1.0 in /home/rocm-user/.local/lib/python3.9/site-packages (from aiohttp<4.0.0,>=3.8.3->langchain) (1.9.4)\n",
      "Requirement already satisfied: build>=1.0.3 in /home/rocm-user/.local/lib/python3.9/site-packages (from chromadb<0.6.0,>=0.4.0->langchain_chroma) (1.2.1)\n",
      "Requirement already satisfied: chroma-hnswlib==0.7.6 in /home/rocm-user/.local/lib/python3.9/site-packages (from chromadb<0.6.0,>=0.4.0->langchain_chroma) (0.7.6)\n",
      "Requirement already satisfied: uvicorn>=0.18.3 in /home/rocm-user/.local/lib/python3.9/site-packages (from uvicorn[standard]>=0.18.3->chromadb<0.6.0,>=0.4.0->langchain_chroma) (0.30.5)\n",
      "Requirement already satisfied: posthog>=2.4.0 in /home/rocm-user/.local/lib/python3.9/site-packages (from chromadb<0.6.0,>=0.4.0->langchain_chroma) (3.5.0)\n",
      "Requirement already satisfied: onnxruntime>=1.14.1 in /home/rocm-user/.local/lib/python3.9/site-packages (from chromadb<0.6.0,>=0.4.0->langchain_chroma) (1.18.1)\n",
      "Requirement already satisfied: opentelemetry-api>=1.2.0 in /home/rocm-user/.local/lib/python3.9/site-packages (from chromadb<0.6.0,>=0.4.0->langchain_chroma) (1.26.0)\n",
      "Requirement already satisfied: opentelemetry-exporter-otlp-proto-grpc>=1.2.0 in /home/rocm-user/.local/lib/python3.9/site-packages (from chromadb<0.6.0,>=0.4.0->langchain_chroma) (1.26.0)\n",
      "Requirement already satisfied: opentelemetry-instrumentation-fastapi>=0.41b0 in /home/rocm-user/.local/lib/python3.9/site-packages (from chromadb<0.6.0,>=0.4.0->langchain_chroma) (0.47b0)\n",
      "Requirement already satisfied: opentelemetry-sdk>=1.2.0 in /home/rocm-user/.local/lib/python3.9/site-packages (from chromadb<0.6.0,>=0.4.0->langchain_chroma) (1.26.0)\n",
      "Requirement already satisfied: tokenizers>=0.13.2 in /home/rocm-user/.local/lib/python3.9/site-packages (from chromadb<0.6.0,>=0.4.0->langchain_chroma) (0.20.0)\n",
      "Requirement already satisfied: pypika>=0.48.9 in /home/rocm-user/.local/lib/python3.9/site-packages (from chromadb<0.6.0,>=0.4.0->langchain_chroma) (0.48.9)\n",
      "Requirement already satisfied: tqdm>=4.65.0 in /home/rocm-user/.local/lib/python3.9/site-packages (from chromadb<0.6.0,>=0.4.0->langchain_chroma) (4.66.5)\n",
      "Requirement already satisfied: overrides>=7.3.1 in /usr/local/lib/python3.9/dist-packages (from chromadb<0.6.0,>=0.4.0->langchain_chroma) (7.7.0)\n",
      "Requirement already satisfied: importlib-resources in /home/rocm-user/.local/lib/python3.9/site-packages (from chromadb<0.6.0,>=0.4.0->langchain_chroma) (6.4.0)\n",
      "Requirement already satisfied: grpcio>=1.58.0 in /home/rocm-user/.local/lib/python3.9/site-packages (from chromadb<0.6.0,>=0.4.0->langchain_chroma) (1.65.4)\n",
      "Requirement already satisfied: bcrypt>=4.0.1 in /home/rocm-user/.local/lib/python3.9/site-packages (from chromadb<0.6.0,>=0.4.0->langchain_chroma) (4.2.0)\n",
      "Requirement already satisfied: typer>=0.9.0 in /home/rocm-user/.local/lib/python3.9/site-packages (from chromadb<0.6.0,>=0.4.0->langchain_chroma) (0.12.3)\n",
      "Requirement already satisfied: kubernetes>=28.1.0 in /home/rocm-user/.local/lib/python3.9/site-packages (from chromadb<0.6.0,>=0.4.0->langchain_chroma) (30.1.0)\n",
      "Requirement already satisfied: mmh3>=4.0.1 in /home/rocm-user/.local/lib/python3.9/site-packages (from chromadb<0.6.0,>=0.4.0->langchain_chroma) (4.1.0)\n",
      "Requirement already satisfied: orjson>=3.9.12 in /home/rocm-user/.local/lib/python3.9/site-packages (from chromadb<0.6.0,>=0.4.0->langchain_chroma) (3.10.7)\n",
      "Requirement already satisfied: httpx>=0.27.0 in /usr/local/lib/python3.9/dist-packages (from chromadb<0.6.0,>=0.4.0->langchain_chroma) (0.27.0)\n",
      "Requirement already satisfied: marshmallow<4.0.0,>=3.18.0 in /home/rocm-user/.local/lib/python3.9/site-packages (from dataclasses-json<0.7,>=0.5.7->langchain_community) (3.21.3)\n",
      "Requirement already satisfied: typing-inspect<1,>=0.4.0 in /home/rocm-user/.local/lib/python3.9/site-packages (from dataclasses-json<0.7,>=0.5.7->langchain_community) (0.9.0)\n",
      "Requirement already satisfied: starlette<0.38.0,>=0.37.2 in /home/rocm-user/.local/lib/python3.9/site-packages (from fastapi<1,>=0.95.2->langchain_chroma) (0.37.2)\n",
      "Requirement already satisfied: jsonpointer>=1.9 in /usr/local/lib/python3.9/dist-packages (from jsonpatch<2.0,>=1.33->langchain_core) (3.0.0)\n",
      "Requirement already satisfied: annotated-types>=0.4.0 in /usr/local/lib/python3.9/dist-packages (from pydantic<3,>=1->langchain) (0.7.0)\n",
      "Requirement already satisfied: pydantic-core==2.18.4 in /usr/local/lib/python3.9/dist-packages (from pydantic<3,>=1->langchain) (2.18.4)\n",
      "Requirement already satisfied: charset-normalizer<4,>=2 in /usr/local/lib/python3.9/dist-packages (from requests<3,>=2->langchain) (3.3.2)\n",
      "Requirement already satisfied: idna<4,>=2.5 in /usr/lib/python3/dist-packages (from requests<3,>=2->langchain) (2.8)\n",
      "Requirement already satisfied: urllib3<3,>=1.21.1 in /usr/lib/python3/dist-packages (from requests<3,>=2->langchain) (1.25.8)\n",
      "Requirement already satisfied: certifi>=2017.4.17 in /usr/lib/python3/dist-packages (from requests<3,>=2->langchain) (2019.11.28)\n",
      "Requirement already satisfied: greenlet!=0.4.17 in /usr/local/lib/python3.9/dist-packages (from SQLAlchemy<3,>=1.4->langchain) (3.0.3)\n",
      "Requirement already satisfied: pyproject_hooks in /home/rocm-user/.local/lib/python3.9/site-packages (from build>=1.0.3->chromadb<0.6.0,>=0.4.0->langchain_chroma) (1.1.0)\n",
      "Requirement already satisfied: importlib-metadata>=4.6 in /usr/local/lib/python3.9/dist-packages (from build>=1.0.3->chromadb<0.6.0,>=0.4.0->langchain_chroma) (7.2.1)\n",
      "Requirement already satisfied: tomli>=1.1.0 in /usr/local/lib/python3.9/dist-packages (from build>=1.0.3->chromadb<0.6.0,>=0.4.0->langchain_chroma) (2.0.1)\n",
      "Requirement already satisfied: anyio in /usr/local/lib/python3.9/dist-packages (from httpx>=0.27.0->chromadb<0.6.0,>=0.4.0->langchain_chroma) (4.4.0)\n",
      "Requirement already satisfied: httpcore==1.* in /usr/local/lib/python3.9/dist-packages (from httpx>=0.27.0->chromadb<0.6.0,>=0.4.0->langchain_chroma) (1.0.5)\n",
      "Requirement already satisfied: sniffio in /usr/local/lib/python3.9/dist-packages (from httpx>=0.27.0->chromadb<0.6.0,>=0.4.0->langchain_chroma) (1.3.1)\n",
      "Requirement already satisfied: h11<0.15,>=0.13 in /usr/local/lib/python3.9/dist-packages (from httpcore==1.*->httpx>=0.27.0->chromadb<0.6.0,>=0.4.0->langchain_chroma) (0.14.0)\n",
      "Requirement already satisfied: six>=1.9.0 in /usr/lib/python3/dist-packages (from kubernetes>=28.1.0->chromadb<0.6.0,>=0.4.0->langchain_chroma) (1.14.0)\n",
      "Requirement already satisfied: python-dateutil>=2.5.3 in /usr/local/lib/python3.9/dist-packages (from kubernetes>=28.1.0->chromadb<0.6.0,>=0.4.0->langchain_chroma) (2.9.0.post0)\n",
      "Requirement already satisfied: google-auth>=1.0.1 in /home/rocm-user/.local/lib/python3.9/site-packages (from kubernetes>=28.1.0->chromadb<0.6.0,>=0.4.0->langchain_chroma) (2.33.0)\n",
      "Requirement already satisfied: websocket-client!=0.40.0,!=0.41.*,!=0.42.*,>=0.32.0 in /usr/local/lib/python3.9/dist-packages (from kubernetes>=28.1.0->chromadb<0.6.0,>=0.4.0->langchain_chroma) (1.8.0)\n",
      "Requirement already satisfied: requests-oauthlib in /home/rocm-user/.local/lib/python3.9/site-packages (from kubernetes>=28.1.0->chromadb<0.6.0,>=0.4.0->langchain_chroma) (2.0.0)\n",
      "Requirement already satisfied: oauthlib>=3.2.2 in /usr/local/lib/python3.9/dist-packages (from kubernetes>=28.1.0->chromadb<0.6.0,>=0.4.0->langchain_chroma) (3.2.2)\n",
      "Requirement already satisfied: coloredlogs in /home/rocm-user/.local/lib/python3.9/site-packages (from onnxruntime>=1.14.1->chromadb<0.6.0,>=0.4.0->langchain_chroma) (15.0.1)\n",
      "Requirement already satisfied: flatbuffers in /home/rocm-user/.local/lib/python3.9/site-packages (from onnxruntime>=1.14.1->chromadb<0.6.0,>=0.4.0->langchain_chroma) (24.3.25)\n",
      "Requirement already satisfied: protobuf in /home/rocm-user/.local/lib/python3.9/site-packages (from onnxruntime>=1.14.1->chromadb<0.6.0,>=0.4.0->langchain_chroma) (4.25.4)\n",
      "Requirement already satisfied: sympy in /usr/local/lib/python3.9/dist-packages (from onnxruntime>=1.14.1->chromadb<0.6.0,>=0.4.0->langchain_chroma) (1.12)\n",
      "Requirement already satisfied: deprecated>=1.2.6 in /home/rocm-user/.local/lib/python3.9/site-packages (from opentelemetry-api>=1.2.0->chromadb<0.6.0,>=0.4.0->langchain_chroma) (1.2.14)\n",
      "Requirement already satisfied: googleapis-common-protos~=1.52 in /home/rocm-user/.local/lib/python3.9/site-packages (from opentelemetry-exporter-otlp-proto-grpc>=1.2.0->chromadb<0.6.0,>=0.4.0->langchain_chroma) (1.63.2)\n",
      "Requirement already satisfied: opentelemetry-exporter-otlp-proto-common==1.26.0 in /home/rocm-user/.local/lib/python3.9/site-packages (from opentelemetry-exporter-otlp-proto-grpc>=1.2.0->chromadb<0.6.0,>=0.4.0->langchain_chroma) (1.26.0)\n",
      "Requirement already satisfied: opentelemetry-proto==1.26.0 in /home/rocm-user/.local/lib/python3.9/site-packages (from opentelemetry-exporter-otlp-proto-grpc>=1.2.0->chromadb<0.6.0,>=0.4.0->langchain_chroma) (1.26.0)\n",
      "Requirement already satisfied: opentelemetry-instrumentation-asgi==0.47b0 in /home/rocm-user/.local/lib/python3.9/site-packages (from opentelemetry-instrumentation-fastapi>=0.41b0->chromadb<0.6.0,>=0.4.0->langchain_chroma) (0.47b0)\n",
      "Requirement already satisfied: opentelemetry-instrumentation==0.47b0 in /home/rocm-user/.local/lib/python3.9/site-packages (from opentelemetry-instrumentation-fastapi>=0.41b0->chromadb<0.6.0,>=0.4.0->langchain_chroma) (0.47b0)\n",
      "Requirement already satisfied: opentelemetry-semantic-conventions==0.47b0 in /home/rocm-user/.local/lib/python3.9/site-packages (from opentelemetry-instrumentation-fastapi>=0.41b0->chromadb<0.6.0,>=0.4.0->langchain_chroma) (0.47b0)\n",
      "Requirement already satisfied: opentelemetry-util-http==0.47b0 in /home/rocm-user/.local/lib/python3.9/site-packages (from opentelemetry-instrumentation-fastapi>=0.41b0->chromadb<0.6.0,>=0.4.0->langchain_chroma) (0.47b0)\n",
      "Requirement already satisfied: setuptools>=16.0 in /usr/lib/python3/dist-packages (from opentelemetry-instrumentation==0.47b0->opentelemetry-instrumentation-fastapi>=0.41b0->chromadb<0.6.0,>=0.4.0->langchain_chroma) (45.2.0)\n",
      "Requirement already satisfied: wrapt<2.0.0,>=1.0.0 in /home/rocm-user/.local/lib/python3.9/site-packages (from opentelemetry-instrumentation==0.47b0->opentelemetry-instrumentation-fastapi>=0.41b0->chromadb<0.6.0,>=0.4.0->langchain_chroma) (1.16.0)\n",
      "Requirement already satisfied: asgiref~=3.0 in /home/rocm-user/.local/lib/python3.9/site-packages (from opentelemetry-instrumentation-asgi==0.47b0->opentelemetry-instrumentation-fastapi>=0.41b0->chromadb<0.6.0,>=0.4.0->langchain_chroma) (3.8.1)\n",
      "Requirement already satisfied: monotonic>=1.5 in /home/rocm-user/.local/lib/python3.9/site-packages (from posthog>=2.4.0->chromadb<0.6.0,>=0.4.0->langchain_chroma) (1.6)\n",
      "Requirement already satisfied: backoff>=1.10.0 in /home/rocm-user/.local/lib/python3.9/site-packages (from posthog>=2.4.0->chromadb<0.6.0,>=0.4.0->langchain_chroma) (2.2.1)\n",
      "Requirement already satisfied: huggingface-hub<1.0,>=0.16.4 in /home/rocm-user/.local/lib/python3.9/site-packages (from tokenizers>=0.13.2->chromadb<0.6.0,>=0.4.0->langchain_chroma) (0.24.5)\n",
      "Requirement already satisfied: click>=8.0.0 in /home/rocm-user/.local/lib/python3.9/site-packages (from typer>=0.9.0->chromadb<0.6.0,>=0.4.0->langchain_chroma) (8.1.7)\n",
      "Requirement already satisfied: shellingham>=1.3.0 in /home/rocm-user/.local/lib/python3.9/site-packages (from typer>=0.9.0->chromadb<0.6.0,>=0.4.0->langchain_chroma) (1.5.4)\n",
      "Requirement already satisfied: rich>=10.11.0 in /home/rocm-user/.local/lib/python3.9/site-packages (from typer>=0.9.0->chromadb<0.6.0,>=0.4.0->langchain_chroma) (13.7.1)\n",
      "Requirement already satisfied: mypy-extensions>=0.3.0 in /home/rocm-user/.local/lib/python3.9/site-packages (from typing-inspect<1,>=0.4.0->dataclasses-json<0.7,>=0.5.7->langchain_community) (1.0.0)\n",
      "Requirement already satisfied: httptools>=0.5.0 in /home/rocm-user/.local/lib/python3.9/site-packages (from uvicorn[standard]>=0.18.3->chromadb<0.6.0,>=0.4.0->langchain_chroma) (0.6.1)\n",
      "Requirement already satisfied: python-dotenv>=0.13 in /home/rocm-user/.local/lib/python3.9/site-packages (from uvicorn[standard]>=0.18.3->chromadb<0.6.0,>=0.4.0->langchain_chroma) (1.0.1)\n",
      "Requirement already satisfied: uvloop!=0.15.0,!=0.15.1,>=0.14.0 in /home/rocm-user/.local/lib/python3.9/site-packages (from uvicorn[standard]>=0.18.3->chromadb<0.6.0,>=0.4.0->langchain_chroma) (0.19.0)\n",
      "Requirement already satisfied: watchfiles>=0.13 in /home/rocm-user/.local/lib/python3.9/site-packages (from uvicorn[standard]>=0.18.3->chromadb<0.6.0,>=0.4.0->langchain_chroma) (0.23.0)\n",
      "Requirement already satisfied: websockets>=10.4 in /home/rocm-user/.local/lib/python3.9/site-packages (from uvicorn[standard]>=0.18.3->chromadb<0.6.0,>=0.4.0->langchain_chroma) (12.0)\n",
      "Requirement already satisfied: zipp>=3.1.0 in /usr/local/lib/python3.9/dist-packages (from importlib-resources->chromadb<0.6.0,>=0.4.0->langchain_chroma) (3.19.2)\n",
      "Requirement already satisfied: exceptiongroup>=1.0.2 in /usr/local/lib/python3.9/dist-packages (from anyio->httpx>=0.27.0->chromadb<0.6.0,>=0.4.0->langchain_chroma) (1.2.1)\n",
      "Requirement already satisfied: cachetools<6.0,>=2.0.0 in /home/rocm-user/.local/lib/python3.9/site-packages (from google-auth>=1.0.1->kubernetes>=28.1.0->chromadb<0.6.0,>=0.4.0->langchain_chroma) (5.4.0)\n",
      "Requirement already satisfied: pyasn1-modules>=0.2.1 in /home/rocm-user/.local/lib/python3.9/site-packages (from google-auth>=1.0.1->kubernetes>=28.1.0->chromadb<0.6.0,>=0.4.0->langchain_chroma) (0.4.0)\n",
      "Requirement already satisfied: rsa<5,>=3.1.4 in /home/rocm-user/.local/lib/python3.9/site-packages (from google-auth>=1.0.1->kubernetes>=28.1.0->chromadb<0.6.0,>=0.4.0->langchain_chroma) (4.9)\n",
      "Requirement already satisfied: filelock in /usr/local/lib/python3.9/dist-packages (from huggingface-hub<1.0,>=0.16.4->tokenizers>=0.13.2->chromadb<0.6.0,>=0.4.0->langchain_chroma) (3.13.1)\n",
      "Requirement already satisfied: fsspec>=2023.5.0 in /usr/local/lib/python3.9/dist-packages (from huggingface-hub<1.0,>=0.16.4->tokenizers>=0.13.2->chromadb<0.6.0,>=0.4.0->langchain_chroma) (2024.2.0)\n",
      "Requirement already satisfied: markdown-it-py>=2.2.0 in /home/rocm-user/.local/lib/python3.9/site-packages (from rich>=10.11.0->typer>=0.9.0->chromadb<0.6.0,>=0.4.0->langchain_chroma) (3.0.0)\n",
      "Requirement already satisfied: pygments<3.0.0,>=2.13.0 in /usr/local/lib/python3.9/dist-packages (from rich>=10.11.0->typer>=0.9.0->chromadb<0.6.0,>=0.4.0->langchain_chroma) (2.18.0)\n",
      "Requirement already satisfied: humanfriendly>=9.1 in /home/rocm-user/.local/lib/python3.9/site-packages (from coloredlogs->onnxruntime>=1.14.1->chromadb<0.6.0,>=0.4.0->langchain_chroma) (10.0)\n",
      "Requirement already satisfied: mpmath>=0.19 in /usr/local/lib/python3.9/dist-packages (from sympy->onnxruntime>=1.14.1->chromadb<0.6.0,>=0.4.0->langchain_chroma) (1.3.0)\n",
      "Requirement already satisfied: mdurl~=0.1 in /home/rocm-user/.local/lib/python3.9/site-packages (from markdown-it-py>=2.2.0->rich>=10.11.0->typer>=0.9.0->chromadb<0.6.0,>=0.4.0->langchain_chroma) (0.1.2)\n",
      "Requirement already satisfied: pyasn1<0.7.0,>=0.4.6 in /home/rocm-user/.local/lib/python3.9/site-packages (from pyasn1-modules>=0.2.1->google-auth>=1.0.1->kubernetes>=28.1.0->chromadb<0.6.0,>=0.4.0->langchain_chroma) (0.6.0)\n",
      "\n",
      "\u001b[1m[\u001b[0m\u001b[34;49mnotice\u001b[0m\u001b[1;39;49m]\u001b[0m\u001b[39;49m A new release of pip is available: \u001b[0m\u001b[31;49m24.1\u001b[0m\u001b[39;49m -> \u001b[0m\u001b[32;49m24.2\u001b[0m\n",
      "\u001b[1m[\u001b[0m\u001b[34;49mnotice\u001b[0m\u001b[1;39;49m]\u001b[0m\u001b[39;49m To update, run: \u001b[0m\u001b[32;49mpython3.9 -m pip install --upgrade pip\u001b[0m\n"
     ]
    }
   ],
   "source": [
    "!pip install langchain langchain_core langchain_community langchain_chroma pypdf faiss-cpu"
   ]
  },
  {
   "cell_type": "markdown",
   "metadata": {},
   "source": [
    "## Step 2. Indexing your file"
   ]
  },
  {
   "cell_type": "markdown",
   "metadata": {},
   "source": [
    "### 2.1 Document Loading and Text Splitting for Indexing\n",
    "\n",
    "In this section, we outline the process of loading a PDF document and splitting its text content into manageable chunks for indexing in a local knowledge base.\n",
    "\n",
    "#### 2.1.1 Load the PDF Document\n",
    "\n",
    "We begin by creating an instance of `PyPDFLoader` with the path to the PDF document \"vitis_hls.pdf\". This loader will be used to read the document's content. You can replace the document name or path as needed to index different documents in your local knowledge base.\n",
    "\n",
    "```python\n",
    "loader = PyPDFLoader(\"IHI0050G_amba_chi_architecture_spec.pdf\")  # You can change documentation here to index your local knowledge base\n",
    "```\n",
    "\n",
    "#### 2.1.2 Load Document Pages\n",
    "Next, we call the load method on the loader instance to retrieve the pages of the document. This step is crucial for accessing the text content that will be processed.\n",
    "\n",
    "```python\n",
    "pages = loader.load()\n",
    "```\n",
    "#### 2.1.3 Initialize Text Splitter\n",
    "We then initialize a RecursiveCharacterTextSplitter, which is designed to split the text based on certain separators and chunk sizes. The splitter is configured with line breaks and periods as separators, a chunk size of 1024 characters, and an overlap of 100 characters to ensure continuity between chunks.\n",
    "\n",
    "```python\n",
    "text_splitter = RecursiveCharacterTextSplitter(\n",
    "    separators=[\"\\n\", \"\\n\\n\", \".\"], chunk_size=1024, chunk_overlap=100\n",
    ")\n",
    "```\n",
    "#### 2.1.4 Split the Document into Chunks\n",
    "Finally, we use the text splitter to divide the document's pages into smaller text chunks. These chunks are suitable for embedding and indexing, facilitating efficient retrieval operations.\n",
    "\n",
    "```python\n",
    "docs = text_splitter.split_documents(pages)\n",
    "```"
   ]
  },
  {
   "cell_type": "code",
   "execution_count": 3,
   "metadata": {},
   "outputs": [],
   "source": [
    "from langchain_text_splitters import RecursiveCharacterTextSplitter\n",
    "from langchain.document_loaders import PyPDFLoader\n",
    "from langchain.vectorstores import FAISS\n",
    "from langchain.embeddings.ollama import OllamaEmbeddings\n",
    "from langchain.llms.ollama import Ollama\n",
    "\n",
    "loader = PyPDFLoader(\"IHI0050G_amba_chi_architecture_spec.pdf\") # You can change documentation here to index your local knowledge base\n",
    "pages = loader.load()\n",
    "text_splitter = RecursiveCharacterTextSplitter(\n",
    "    separators=[\"\\n\", \"\\n\\n\", \".\"], chunk_size=1024, chunk_overlap=100\n",
    ")\n",
    "docs = text_splitter.split_documents(pages)"
   ]
  },
  {
   "cell_type": "markdown",
   "metadata": {},
   "source": [
    "\n",
    "### 2.2 Document Embedding and Similarity Search with Ollama Model\n",
    "\n",
    "In this section, we demonstrate how to perform document embedding and similarity search using the `Ollama` model. `Ollama` is a library that provides text embedding and large language model (LLM) services.\n",
    "\n",
    "#### 2.2.1 Initialize Embedding and Language Models\n",
    "\n",
    "First, we initialize an `OllamaEmbeddings` model for document embedding, setting the model to `nomic-embed-text`. Then, we create an `Ollama` instance connected to the remote language model service `llama3:8b`, with a context length of 8192.\\\n",
    "\\\n",
    "**NOTICE**: http://241.4.117.29:11434 is the LLM service url do not change it unless you have another LLM api.\n",
    "```python\n",
    "embedding_model = OllamaEmbeddings(base_url=\"http://241.4.117.29:11434\", model=\"nomic-embed-text\")\n",
    "llm = Ollama(base_url=\"http://241.4.117.29:11434\", model=\"llama3:8b\", num_ctx=8192)\n",
    "```\n",
    "#### 2.2.2 Create FAISS Index\n",
    "Next, we construct a FAISS index using the document collection and the embedding model created above. FAISS is a library for efficient similarity search and dense vector clustering.\n",
    "\n",
    "```python\n",
    "faiss_index = FAISS.from_documents(docs, embedding_model)\n",
    "```\n",
    "\n",
    "#### 2.2.3 Perform Similarity Search\n",
    "We then use the FAISS index to search for the most relevant document fragments to the query \"How many burst read-writes can Vitis handle at most?\" Here, we retrieve the top two most relevant results.\n",
    "\n",
    "```python\n",
    "relevant_chunk = faiss_index.similarity_search(\"What is amba chi?\", k=2)\n",
    "```\n",
    "\n",
    "#### 2.2.4 Print Search Results\n",
    "Finally, we print the retrieved relevant information. For each retrieved document fragment, we print its page number and content.\n",
    "\n",
    "```python\n",
    "print(\"Here are the retrieved relevant pieces of information:\")\n",
    "for doc in relevant_chunk:\n",
    "    print(\"#\" * 20)\n",
    "    print(f\"Page {doc.metadata['page']}: {doc.page_content}\")\n",
    "```\n"
   ]
  },
  {
   "cell_type": "code",
   "execution_count": 4,
   "metadata": {},
   "outputs": [
    {
     "name": "stdout",
     "output_type": "stream",
     "text": [
      "there are relevant documentation chunks\n",
      "####################\n",
      "577: Chapter D1. Glossary\n",
      "Advanced Microcontroller Bus Architecture, AMBA\n",
      "The AMBA family of protocol speciﬁcations is the Arm open standard for on-chip buses. AMBA provides\n",
      "solutions for the interconnection and management of functional blocks that make up a System-on-Chip (SoC).\n",
      "Applications include the development of embedded systems with one or more processors or signal processors and\n",
      "multiple peripherals.\n",
      "Aligned\n",
      "A data item stored at an address that is divisible by the highest power of 2 that divides into its size in bytes.\n",
      "Aligned halfwords, words and doublewords therefore have addresses that are divisible by 2, 4 and 8 respectively.\n",
      "An aligned access is one where the address of the access is aligned to the size of each element of the access.\n",
      "AMBA\n",
      "See Advanced Microcontroller Bus Architecture.\n",
      "At approximately the same time\n",
      "Two events occur at approximately the same time if a remote observer might not be able to determine the order in\n",
      "which they occurred.\n",
      "Barrier\n",
      "####################\n",
      "16: About this speciﬁcation\n",
      "This speciﬁcation describes the AMBA®Coherent Hub Interface (CHI) architecture.\n",
      "Intended audience\n",
      "This speciﬁcation is written for hardware and software engineers who want to become familiar with the CHI\n",
      "architecture and design systems and modules that are compatible with the CHI architecture.\n",
      "xvii\n"
     ]
    }
   ],
   "source": [
    "embedding_model = OllamaEmbeddings(base_url=\"http://241.4.117.29:11434\", model=\"nomic-embed-text\")\n",
    "llm = Ollama(base_url=\"http://241.4.117.29:11434\", model=\"llama3:8b\", num_ctx=8192)\n",
    "\n",
    "faiss_index = FAISS.from_documents(docs, embedding_model)\n",
    "relevant_chunk = faiss_index.similarity_search(\"What is amba chi?\", k=2)\n",
    "\n",
    "print(\"there are relevant documentation chunks\")\n",
    "for doc in relevant_chunk:\n",
    "    print(\"#\"*20)\n",
    "    print(str(doc.metadata[\"page\"]) + \":\", doc.page_content)"
   ]
  },
  {
   "cell_type": "markdown",
   "metadata": {},
   "source": [
    "## Step 3. Build RAG Chain"
   ]
  },
  {
   "cell_type": "markdown",
   "metadata": {},
   "source": [
    "### 3.1 Define System Prompte\n",
    "here is a guidance for how to write a good prompt: https://www.coursera.org/articles/how-to-write-chatgpt-prompts\n",
    "you can write prompt in following steps:\n",
    "  1. what roles will LLMs plays like\n",
    "  2. relevant information\n",
    "  3. what you expect LLMs do for you\n",
    "  4. more instruction, i.e: generate answer in JSON format;  answer in CHINESE; "
   ]
  },
  {
   "cell_type": "code",
   "execution_count": 11,
   "metadata": {},
   "outputs": [
    {
     "name": "stdout",
     "output_type": "stream",
     "text": [
      "You are an amba chi architecture expert. Please answer and provide guidance based on the user's question according to the product manual.\n",
      "---------------------\n",
      "The CHI architecture is primarily topology-independent. However, certain topology-dependent optimizations are included in this specification to make implementation more efficient. Figure B1.1 shows three examples of topologies selected to show the range of interconnect bandwidth and scalability options that are available.\n",
      "---------------------\n",
      "Please answer based on the content of the architecture spec manual.\n",
      "When answering, provide the page number(s) in the product manual where the relevant information can be found.\n",
      "If the question goes beyond the scope of the manual, clearly inform the user that the question is out of the manual's scope.\n",
      "The answer should be accurate and concise.\n",
      "---------------------\n",
      "User's question: What is Topology of CHI architecture?\n",
      "---------------------\n",
      "Answer: \n"
     ]
    }
   ],
   "source": [
    "from langchain_core.prompts import PromptTemplate\n",
    "\n",
    "template = (\n",
    "    \"You are an amba chi architecture expert. Please answer and provide guidance based on the user's question according to the product manual.\\n\"\n",
    "    \"---------------------\\n\"\n",
    "    \"{context_str}\\n\"\n",
    "    \"---------------------\\n\"\n",
    "    \"Please answer based on the content of the architecture spec manual.\\n\"\n",
    "    \"When answering, provide the page number(s) in the product manual where the relevant information can be found.\\n\"\n",
    "    \"If the question goes beyond the scope of the manual, clearly inform the user that the question is out of the manual's scope.\\n\"\n",
    "    \"The answer should be accurate and concise.\\n\"\n",
    "    \"---------------------\\n\"\n",
    "    \"User's question: {query_str}\\n\"\n",
    "    \"---------------------\\n\"\n",
    "    \"Answer: \"\n",
    ")\n",
    "\n",
    "prompt_template = PromptTemplate.from_template(\n",
    "    template,\n",
    ")\n",
    "\n",
    "print(prompt_template.format(\n",
    "    context_str=\"The CHI architecture is primarily topology-independent. However, certain topology-dependent optimizations are included in this specification to make implementation more efficient. Figure B1.1 shows three examples of topologies selected to show the range of interconnect bandwidth and scalability options that are available.\",\n",
    "    query_str=\"What is Topology of CHI architecture?\"\n",
    "))"
   ]
  },
  {
   "cell_type": "code",
   "execution_count": 12,
   "metadata": {},
   "outputs": [],
   "source": [
    "from langchain_core.output_parsers import StrOutputParser\n",
    "from langchain_core.runnables import RunnablePassthrough\n",
    "\n",
    "def format_docs(docs):\n",
    "    return \"\\n\\n\".join(doc.page_content for doc in docs)\n",
    "\n",
    "retrieval = faiss_index.as_retriever()\n",
    "\n",
    "rag_chain = (\n",
    "    {\"context_str\": retrieval | format_docs, \"query_str\": RunnablePassthrough()}\n",
    "    | prompt_template | llm | StrOutputParser()\n",
    ")"
   ]
  },
  {
   "cell_type": "markdown",
   "metadata": {},
   "source": [
    "## Step 4. Test your RAG system"
   ]
  },
  {
   "cell_type": "code",
   "execution_count": 13,
   "metadata": {},
   "outputs": [
    {
     "name": "stdout",
     "output_type": "stream",
     "text": [
      "According to Chapter B1. Introduction, Section B1.4. Transaction classiﬁcation, transaction classification refers to the grouping of different transaction types together.\n",
      "\n",
      "Please refer to Table B1.3 for a comprehensive list of transaction classifications, which represents collectively:\n",
      "\n",
      "* CleanSharedPersist*: CleanSharedPersist and CleanSharedPersistSep\n",
      "* SnpStash*: SnpStashUnique and SnpStashShared\n",
      "* DBIDResp*: DBIDResp and DBIDRespOrd\n",
      "\n",
      "You can find this information on page [36] in the product manual.\n"
     ]
    }
   ],
   "source": [
    "user_question = \"What is Transaction classification?\"\n",
    "output = rag_chain.invoke(user_question)\n",
    "print(output)"
   ]
  },
  {
   "cell_type": "code",
   "execution_count": 14,
   "metadata": {},
   "outputs": [
    {
     "name": "stdout",
     "output_type": "stream",
     "text": [
      "To obtain more AMBA CHI information, I recommend reviewing the following sections in the product manual:\n",
      "\n",
      "* The \"Intended audience\" section (page xix) provides an overview of who this specification is written for and what kind of information it covers.\n",
      "* The \"Release information\" section (pages ii-iii) lists the various releases of the AMBA CHI architecture specification, including the date and version number. This can help you identify the most recent release or find information specific to a particular version.\n",
      "\n",
      "Additionally, you may want to explore Arm's official website or documentation portal for more comprehensive resources on AMBA CHI, such as whitepapers, technical briefs, and application notes.\n",
      "\n",
      "Note: Since this manual is primarily focused on the specification itself, it does not contain additional information beyond what is presented here.\n"
     ]
    }
   ],
   "source": [
    "user_question = \"how can i get more amba chi information?\"\n",
    "output = rag_chain.invoke(user_question)\n",
    "print(output)"
   ]
  }
 ],
 "metadata": {
  "kernelspec": {
   "display_name": "Python 3 (ipykernel)",
   "language": "python",
   "name": "python3"
  },
  "language_info": {
   "codemirror_mode": {
    "name": "ipython",
    "version": 3
   },
   "file_extension": ".py",
   "mimetype": "text/x-python",
   "name": "python",
   "nbconvert_exporter": "python",
   "pygments_lexer": "ipython3",
   "version": "3.9.19"
  }
 },
 "nbformat": 4,
 "nbformat_minor": 4
}
